{
 "cells": [
  {
   "cell_type": "code",
   "execution_count": 1,
   "metadata": {},
   "outputs": [
    {
     "name": "stdout",
     "output_type": "stream",
     "text": [
      "My age is 32 and i have completed: my degree of BE with the name of krish naik\n"
     ]
    }
   ],
   "source": [
    "# f format\n",
    "\n",
    "name=(\"krish naik\")\n",
    "age=32\n",
    "degree=(\"BE\")\n",
    "print(\"My age is {} and i have completed: my degree of {} with the name of {}\".format(age,degree,name))"
   ]
  },
  {
   "cell_type": "code",
   "execution_count": 28,
   "metadata": {},
   "outputs": [
    {
     "name": "stdout",
     "output_type": "stream",
     "text": [
      "My age is 32 and i have completed: my degree of BE with the name of krish naik\n"
     ]
    }
   ],
   "source": [
    "# f string format \n",
    "name=(\"krish naik\")\n",
    "age=32\n",
    "degree=(\"BE\")\n",
    "print(f\"My age is {age} and i have completed: my degree of {degree} with the name of {name}\")\n",
    "\n"
   ]
  },
  {
   "cell_type": "code",
   "execution_count": 7,
   "metadata": {},
   "outputs": [
    {
     "name": "stdout",
     "output_type": "stream",
     "text": [
      "you are old or too young\n"
     ]
    }
   ],
   "source": [
    "# if else statements\n",
    "# and is a and clause as true and false , True and False will give the output as false.\n",
    "##Task 1\n",
    "## Take a input of age\n",
    "## check whether age >=18 and age<=45\n",
    "## display a message you are young blood\n",
    "\n",
    "age= int(input(\"Enter your age\"))\n",
    "if age>=18 and age<=32:\n",
    "    print(\"you are young blood\")\n",
    "else:\n",
    "    print(\"you are old or too young\")"
   ]
  },
  {
   "cell_type": "code",
   "execution_count": 15,
   "metadata": {},
   "outputs": [
    {
     "name": "stdout",
     "output_type": "stream",
     "text": [
      "the price of the productg is 1200.0\n"
     ]
    }
   ],
   "source": [
    "## task 2\n",
    "## mall - input the product price\n",
    "## product >1000 rs 20% off\n",
    "## print the product price after removing the discount\n",
    "## product <=1000 rs 30% off\n",
    "## print the product price after removing the discount\n",
    "\n",
    "product=int(input(\"enter product price\"))\n",
    "if product>1000:\n",
    "    print(\"the price of the productg is {}\".format(product*0.8))\n",
    "else:\n",
    "    print(\"the price of the productg is {}\".format(product*0.7))\n"
   ]
  },
  {
   "cell_type": "code",
   "execution_count": 27,
   "metadata": {},
   "outputs": [
    {
     "name": "stdout",
     "output_type": "stream",
     "text": [
      "the product price is 180.0 after 40% discount \n"
     ]
    }
   ],
   "source": [
    "## mall - input the product price\n",
    "## product >3000 rs 20% off\n",
    "## price is ==4000 you get a trip to Goa\n",
    "## print the product price after removing the discount\n",
    "## product >=2000 rs and <=3000 30% off\n",
    "## print the product price after removing the discount\n",
    "## price ==2999  u will get adiitional gift\n",
    "## product 100 rs and <=2000 40% off\n",
    "## print the product price after removing the discount\n",
    "\n",
    "product=int(input(\"enter product price\"))\n",
    "if product>3000:\n",
    "    if product==4000:\n",
    "        print(\"congratulations you are going to goa\")\n",
    "    print(f\"the price of product is {product*0.8} after 20% discount \")\n",
    "elif product>=2000 and product<=3000:\n",
    "    if product==2999:\n",
    "        print(\"you get an additional gift\")\n",
    "    print(f\"the product price is {product*0.7} after 30% discount \")\n",
    "elif product>=100 and product<2000:\n",
    "    print(f\"the product price is {product*0.6} after 40% discount \")\n",
    "\n",
    "else:\n",
    "    print(\"lets drink tea\")\n",
    "    print(\"i will also be there\")\n",
    "\n",
    "\n"
   ]
  },
  {
   "cell_type": "code",
   "execution_count": null,
   "metadata": {},
   "outputs": [],
   "source": []
  }
 ],
 "metadata": {
  "kernelspec": {
   "display_name": "Python 3",
   "language": "python",
   "name": "python3"
  },
  "language_info": {
   "codemirror_mode": {
    "name": "ipython",
    "version": 3
   },
   "file_extension": ".py",
   "mimetype": "text/x-python",
   "name": "python",
   "nbconvert_exporter": "python",
   "pygments_lexer": "ipython3",
   "version": "3.9.13"
  },
  "orig_nbformat": 4
 },
 "nbformat": 4,
 "nbformat_minor": 2
}
